{
  "nbformat": 4,
  "nbformat_minor": 0,
  "metadata": {
    "colab": {
      "name": "Practical 1: Non-linearity, manual backprop and the value of autodiff",
      "version": "0.3.2",
      "views": {},
      "default_view": {},
      "provenance": [],
      "last_runtime": {
        "build_target": "//learning/deepmind/dm_python:dm_notebook",
        "kind": "private"
      }
    }
  },
  "cells": [
    {
      "metadata": {
        "id": "C_k2caQzviF6",
        "colab_type": "text"
      },
      "source": [
        "# Introduction to Python & Numpy (move to Prac 0.a)\n",
        "Fork this and build on it: \n",
        "\n",
        "https://github.com/kuleshov/cs228-material/blob/master/tutorials/python/cs228-python-tutorial.ipynb\n",
        "\n",
        "# Machine Learning Fundamentals (move to Prac 0.b)\n",
        "\n",
        "In this section we will quickly review the fundamentals of Machine Learning. Machine learning can be defined as:\n",
        "\n",
        ">*the process whereby a **model** improves its performance with respect to some **task**, as measured in terms of some performance measure or **objective function**, by learning from examples from some **data** or training set.*\n",
        "\n",
        "In order to talk about Machine Learning, we will therefore talk about all of these ideas in turn.\n",
        "\n",
        "## Data\n",
        "\n",
        "what do we mean when we talk about the **structure** of datasets?\n",
        "\n",
        "\n",
        "## Hypothesis functions or \"models\"\n",
        "How do they work, the assumptions that models necessarily have to make about the data in order to be useful (no free lunch), and again, what do we mean when we talk about the \"structure\" of models.\n",
        "\n",
        "## Parametric vs non-parametric learning\n",
        "\n",
        "What do parameters do/represent? Decision boundaries, weight vectors, etc.\n",
        "\n",
        "\n",
        "## Objective/loss functions\n",
        "\n",
        "Empasize that this is a scalar goodness-of-fit function of the input data, parameterized using the model parameters.\n",
        "\n",
        "## Learning as Optimization\n",
        "\n",
        "Optimizing a cost function moves around in parameter/weight space, and each position is quantified by its scalar loss value. \n",
        "\n",
        "\n",
        "## Empirical Risk Minimization\n",
        "Overfitting & the need for training/validation/test splits. What we care about is performance on held-out data.\n"
      ],
      "cell_type": "markdown"
    },
    {
      "metadata": {
        "id": "j9-CLiXs36tt",
        "colab_type": "text"
      },
      "source": [
        "# Building Intuitions: Our First Classifier on Simple Toy Data\n",
        "\n",
        "Run the code in the cell below, and look at the resulting plot. It should produce a simple 2D data set consisting of 2 classes of points, a weight vector in black, and a decision boundary in red. The goal is to obtain a decision boundary that best separates the different classes of points."
      ],
      "cell_type": "markdown"
    },
    {
      "metadata": {
        "id": "Kx2JGMPS3_4O",
        "colab_type": "code",
        "colab": {
          "autoexec": {
            "startup": false,
            "wait_interval": 0
          },
          "output_extras": [
            {
              "item_id": 1
            }
          ],
          "height": 375
        },
        "outputId": "e88d536f-bded-4416-aa21-c04fec029324",
        "executionInfo": {
          "status": "ok",
          "timestamp": 1501685438659,
          "user_tz": -60,
          "elapsed": 398,
          "user": {
            "displayName": "Ulrich Paquet",
            "photoUrl": "//lh3.googleusercontent.com/-q3A91HQu7t8/AAAAAAAAAAI/AAAAAAAAAAw/O3bjgikw0xQ/s50-c-k-no/photo.jpg",
            "userId": "117228953648657363788"
          }
        }
      },
      "source": [
        "import numpy as np               # Numpy is an efficient linear algebra library.\n",
        "import matplotlib.pyplot as plt  # Matplotlib is used to generate plots of data.\n",
        "\n",
        "centre = 1.0\n",
        "points_in_class = 20\n",
        "# Setting a random seed allows us to recreate the same data each time we run the cell.\n",
        "np.random.seed(0)\n",
        "\n",
        "# Generate data.\n",
        "x_pos = np.random.normal(loc=centre, scale=1.0, size=[points_in_class, 2])  # Generate random points in the \"positive\" class\n",
        "x_neg = np.random.normal(loc=-centre, scale=1.0, size=[points_in_class, 2])  # Generate random points in the \"negative\" class\n",
        "x = np.concatenate((x_pos, x_neg), axis=0) \n",
        "  \n",
        "# The class (or \"y\") value is +1 or -1 for the 2 classes\n",
        "y_pos = np.ones(points_in_class)  \n",
        "y_neg = - np.ones(points_in_class)\n",
        "y = np.concatenate((y_pos, y_neg), axis=0)\n",
        "\n",
        "# N is the total data set size\n",
        "N = 2 * points_in_class\n",
        "\n",
        "# Plot the data using Matplotlib\n",
        "fig = plt.figure()  \n",
        "plt.scatter(x[:, 0], x[:, 1], c=y, s=40)\n",
        "plt.axis('equal')\n",
        "\n",
        "# Pick a weight vector. In the exercise below, you are going to change the\n",
        "# values in this weight vector to see how the decision boundary changes.\n",
        "w = [-0.5, 1.6]  # CHANGE ME!! \n",
        "\n",
        "# Add the weight vector to the plot.\n",
        "plt.plot([0, w[0]], [0, w[1]], 'k-')\n",
        "\n",
        "# Plot part of the decision boundary in red. It is orthogonal to the weight vector.\n",
        "t = 2\n",
        "plt.plot([-t * w[1], t * w[1]], [t * w[0], -t * w[0]], 'r-')\n",
        "\n",
        "# Add some labels to the plot and display it\n",
        "plt.xlabel('x0')\n",
        "plt.ylabel('x1')\n",
        "plt.show()"
      ],
      "cell_type": "code",
      "execution_count": 2,
      "outputs": [
        {
          "output_type": "display_data",
          "data": {
            "image/png": "[encoded data removed]",
            "text/plain": [
              "<matplotlib.figure.Figure at 0xcbdee90>"
            ]
          },
          "metadata": {
            "tags": []
          }
        }
      ]
    },
    {
      "metadata": {
        "id": "OidhcGh6xtwN",
        "colab_type": "text"
      },
      "source": [
        "# What do parameters do?\n",
        "\n",
        "* Change w = [0.5, 1.6] to different values, and re-run the above code.\n",
        "\n",
        "* How does the decision boundary change?\n",
        "\n",
        "* Where in x-space is the inner product w' * x positive? Negative? Zero? Can you relate that to the class labels y?\n",
        "\n",
        "* By changing w, can you manually find a weight vector that does a good job of discriminating between the two classes?\n",
        "  * How did you manually find it? What made you move from one choice to the next?\n",
        "\n",
        "* Now that you've found it manually, chat with your friend next to you.\n",
        "  * How will you find it automatically?\n",
        "  * Can you devise a function, where minimizing it does the same thing as the way you manually searched?\n",
        "  * Pause here and think.\n",
        "    * Which values of w give \"bad solutions\", according to you?\n",
        "    * Which ones give good solutions?\n",
        "\n",
        "* Try to draw the function that you devised on a piece of paper. It should be small when w gives a \"good solution\", and it should be big when w gives a \"bad solution\". Be creative and think of your own function. Show your drawing it to your neighbour.\n",
        "\n",
        "DO NOT PROCEED ANY FURTHER UNTIL YOU'VE THOROUGHLY ATTEMPTED ALL THE ABOVE QUESTIONS. (Ask your tutors for help if you're stuck!)"
      ],
      "cell_type": "markdown"
    },
    {
      "metadata": {
        "id": "c58IjWnlyMh2",
        "colab_type": "text"
      },
      "source": [
        "# A loss function of w\n",
        "\n",
        "* Below we will formulate it as a loss function.\n",
        "\n",
        "* Run the code below, and look at the plot of the loss function. Note that it is not in x-space any more, but that our axis labels are w[0] and w[1]!\n",
        "\n",
        "* Do the weights w that you found manually correspond to the minimum of the loss function?\n"
      ],
      "cell_type": "markdown"
    },
    {
      "metadata": {
        "id": "oFSdDg89xBW4",
        "colab_type": "code",
        "colab": {
          "autoexec": {
            "startup": false,
            "wait_interval": 0
          },
          "output_extras": [
            {
              "item_id": 1
            }
          ],
          "height": 385
        },
        "outputId": "ddfc935e-1984-428f-b6c1-84c61ff70e8a",
        "executionInfo": {
          "status": "ok",
          "timestamp": 1501685620291,
          "user_tz": -60,
          "elapsed": 489,
          "user": {
            "displayName": "Ulrich Paquet",
            "photoUrl": "//lh3.googleusercontent.com/-q3A91HQu7t8/AAAAAAAAAAI/AAAAAAAAAAw/O3bjgikw0xQ/s50-c-k-no/photo.jpg",
            "userId": "117228953648657363788"
          }
        }
      },
      "source": [
        "def compute_loss(w0, w1, x, y, alpha):\n",
        "  # We start with a regularizer.\n",
        "  # What is its effects on the loss function? Does it change the loss function's\n",
        "  # minimum?\n",
        "  loss = alpha * (w0 * w0 + w1 * w1)\n",
        "  \n",
        "  # Add the data point's contribution to the loss. We do this for every data\n",
        "  # point. (We don't have to do it in a for-loop, but below, you can really see\n",
        "  # what is happening...)\n",
        "  for n in xrange(N):\n",
        "    # Get the inner product x' * w for data point x.\n",
        "    inner = w0 * x[n, 0] + w1 * x[n, 1]\n",
        "    \n",
        "    # Now look at the plot with a weight vector in our \"data space\".\n",
        "    loss += np.log(1 + np.exp(- y[n] * inner))\n",
        "  \n",
        "  return loss\n",
        "  \n",
        "lim = 5\n",
        "ind = np.linspace(-lim, lim, 50)\n",
        "w0, w1 = np.meshgrid(ind, ind)\n",
        "\n",
        "# You will change the value of alpha (below), to see how the loss function\n",
        "# changes. It has to be alpha >= 0. No negative values (otherwise the loss\n",
        "# function's minimum is at negative infinity)!\n",
        "alpha = 0.1\n",
        "loss = compute_loss(w0, w1, x, y, alpha)\n",
        "\n",
        "fig = plt.figure()\n",
        "plt.pcolor(w0, w1, np.exp(-loss))\n",
        "# We plot exp(-1oss) here, to let the colours show clearly in the plot. This is\n",
        "# incidentally also proportional to the joint distribution\n",
        "# p(y, w | x) = p(y | x, w) p(w), which you'll encounter on Wednesday in the\n",
        "# Indaba, and can safely ignore for now.\n",
        "plt.title('A plot of exp(-loss), as a function of weight vector [w0, w1]; '\n",
        "          + 'alpha = ' + str(alpha))\n",
        "plt.xlabel('w0')\n",
        "plt.ylabel('w1')\n",
        "plt.axis('equal')\n",
        "plt.show()"
      ],
      "cell_type": "code",
      "execution_count": 5,
      "outputs": [
        {
          "output_type": "display_data",
          "data": {
            "image/png": "[encoded data removed]",
            "text/plain": [
              "<matplotlib.figure.Figure at 0xcbd8990>"
            ]
          },
          "metadata": {
            "tags": []
          }
        }
      ]
    },
    {
      "metadata": {
        "id": "ViYDcDH1cbx3",
        "colab_type": "text"
      },
      "source": [
        "# Trying different loss functions\n",
        "\n",
        "* As a first exercise, look at the function that computes the loss. There is a for-loop, essentially a sum.\n",
        "  * Can you write down the loss function on a piece of paper? As a mathematical expression...\n",
        "  \n",
        "* On a piece of paper, can you draw\n",
        "        log(1 + exp(- y[n] * inner))\n",
        "  as a function of the inner product, the value of y, etc.\n",
        "  * When is it almost zero, and the contribution to the loss is neglible?\n",
        "  * Where does it become almost linear?\n",
        "    \n",
        "    After you've done your drawings, explain to yourself why the function is equivalent to\n",
        "        inner = y[n] * (w0 * x[n, 0] + w1 * x[n, 1])   \n",
        "        l += np.log(1 + np.exp(- inner))\n",
        "    What is the effect of the class label y on the weight vector. What happens if we multiply a weight vector with -1?\n",
        "\n",
        "* Now change the setting of alpha. Make it bigger, and smaller. What happens to the minimum?"
      ],
      "cell_type": "markdown"
    },
    {
      "metadata": {
        "id": "N2zx68Ju9haj",
        "colab_type": "text"
      },
      "source": [
        "**TODO(sgouws)**: Cut here and move to Prac 0.b\n"
      ],
      "cell_type": "markdown"
    },
    {
      "metadata": {
        "id": "hwxeymnrToNF",
        "colab_type": "text"
      },
      "source": [
        "# Working with More Complex Data\n",
        "\n",
        "Real-world data is unfortunately not as simple as our toy bimodal Gaussian example above. Real data (e.g. pixels from vision, or speech phonemes, or words of a language) can have very complex, high-dimensional distributions. Before we get our hands dirty with that, we'll move one step up and work with another toy dataset, but this time non-linear."
      ],
      "cell_type": "markdown"
    },
    {
      "metadata": {
        "id": "T0eBZ4aq2IH2",
        "colab_type": "code",
        "colab": {
          "autoexec": {
            "startup": false,
            "wait_interval": 0
          }
        }
      },
      "source": [
        "import numpy as np  # Numpy is an efficient linear algebra library.\n",
        "import matplotlib.pyplot as plt  # Matplotlib is used to generate plots of data.\n",
        "\n",
        "%matplotlib inline\n",
        "plt.rcParams['figure.figsize'] = (10.0, 8.0) # set default size of plots\n",
        "plt.rcParams['image.interpolation'] = 'nearest'\n",
        "plt.rcParams['image.cmap'] = 'gray'\n",
        "\n",
        "# for auto-reloading extenrnal modules\n",
        "# (if you're curious, see http://stackoverflow.com/questions/1907993/autoreload-of-modules-in-ipython)\n",
        "%load_ext autoreload\n",
        "%autoreload 2"
      ],
      "cell_type": "code",
      "execution_count": 0,
      "outputs": []
    },
    {
      "metadata": {
        "id": "nlzlDave2e8K",
        "colab_type": "text"
      },
      "source": [
        "Let's generate a dataset with three spirals arranged in a swiss-roll type structure, and where each spiral forms a \"class\" that we want to be able to classify (i.e. the classes are very non-linearly distributed).\n",
        "\n",
        "## Hyperparameters\n",
        "\n",
        "First we define some hyperparameters that will be used by the next few cells. Try changing these values to see how the models work with different data. "
      ],
      "cell_type": "markdown"
    },
    {
      "metadata": {
        "id": "O3WJV8EI-4xp",
        "colab_type": "code",
        "colab": {
          "autoexec": {
            "startup": false,
            "wait_interval": 0
          }
        }
      },
      "source": [
        "num_classes = 3  # The number of classes (distinct groups) of data (these are our \"y\" values)\n",
        "dimensions = 2  # The number of dimensions of our input or \"X\" values\n",
        "points_per_class = 100  # number of X points to generate for each of the y values"
      ],
      "cell_type": "code",
      "execution_count": 0,
      "outputs": []
    },
    {
      "metadata": {
        "id": "gGuvwWo72eFH",
        "colab_type": "code",
        "colab": {
          "autoexec": {
            "startup": false,
            "wait_interval": 0
          },
          "output_extras": [
            {
              "item_id": 1
            }
          ],
          "height": 499
        },
        "outputId": "c18dcf08-b8cd-4828-f790-ed49a7bd0dc5",
        "executionInfo": {
          "status": "ok",
          "timestamp": 1502215353636,
          "user_tz": -60,
          "elapsed": 210,
          "user": {
            "displayName": "Avishkar Bhoopchand",
            "photoUrl": "//lh5.googleusercontent.com/-OainnMWSi6A/AAAAAAAAAAI/AAAAAAAAAOQ/eI7Z19q5v7E/s50-c-k-no/photo.jpg",
            "userId": "105781587643595215149"
          }
        }
      },
      "source": [
        "# Setting a random seed allows us to get the exact same data each time we run \n",
        "# the cell.\n",
        "np.random.seed(0)  \n",
        "\n",
        "def generate_spiral_data(num_classes, dimensions, points_per_class):\n",
        "  \"\"\"Generate `num_classes` spirals with `points_per_class` points per spiral.\"\"\"\n",
        "  \n",
        "  X = np.zeros((points_per_class*num_classes, dimensions), dtype='float32')  # Create an empty matrix to hold our X values\n",
        "  y = np.zeros(points_per_class*num_classes, dtype='uint8')  # Create an empty vector to hold our y values\n",
        "\n",
        "  for y_value in xrange(num_classes):   # Generate data for each class\n",
        "    ix = range(points_per_class*y_value, points_per_class*(y_value+1))  # The indices in X and y where we will save this class of data\n",
        "\n",
        "    radius = np.linspace(0.0, 1, points_per_class)  # Generate evenly spaced numbers in the interval 0 to 1\n",
        "    theta = np.linspace(y_value*4, (y_value+1)*4, points_per_class) + np.random.randn(points_per_class) * 0.2  \n",
        "\n",
        "    X[ix] = np.column_stack([radius*np.sin(theta), radius*np.cos(theta)])   # Convert polar coordinates to standard Euclidian coordinates\n",
        "    y[ix] = y_value\n",
        "  \n",
        "  return X, y\n",
        "  \n",
        "  \n",
        "def plot_data(X, y):\n",
        "  \"\"\"Use Matplotlib to plot X, y data on a figure.\"\"\"\n",
        "  fig = plt.figure()\n",
        "  plt.scatter(X[:, 0], X[:, 1], c=y, s=40, cmap=plt.cm.Spectral)\n",
        "  plt.xlim([-1,1])\n",
        "  plt.ylim([-1,1])\n",
        "  return fig\n",
        "\n",
        "X, y = generate_spiral_data(num_classes, dimensions, points_per_class)\n",
        "fig = plot_data(X, y)\n",
        "\n",
        "# fig.savefig('spiral_raw.png')  # Uncomment this line if you want to save your image to a file"
      ],
      "cell_type": "code",
      "execution_count": 4,
      "outputs": [
        {
          "output_type": "display_data",
          "data": {
            "text/plain": [
              "<matplotlib.figure.Figure at 0xc517710>"
            ],
            "image/png": "[encoded data removed]"
          },
          "metadata": {
            "tags": []
          }
        }
      ]
    },
    {
      "metadata": {
        "id": "4NPYAO6t2yyL",
        "colab_type": "text"
      },
      "source": [
        "# Implementing a Classifier from Scratch\n",
        "Before experimenting with libraries like TensorFlow, we start by implementing a simple linear classifier and then a more complex nonlinear classifier from scratch in Numpy. This allows us to be able to go through all the low-level details of how to make predictions and how to train our models, as these details are very important. \n",
        "\n",
        "Later on, we will then reimplement these two classifiers using TensorFlow, and hopefully we will see that this makes things much easier (especially as the models get more complex!).\n",
        "\n",
        "## Implementing a Linear Classifier\n",
        "\n",
        "**TODO**: Add description (math + flow-graph). Break up the code below and discuss each section in more detail.\n",
        "\n",
        "How do we define and train a model that learns to separate the num_classes different classes, based on their coordinates in X space?\n",
        "\n",
        "Let's start with a simple linear model and see how far we can get. Note that when we say \"linear model\" we mean that it is a linear function of the **parameters** that maps inputs to predictions."
      ],
      "cell_type": "markdown"
    },
    {
      "metadata": {
        "id": "V6Y5ebQLj--W",
        "colab_type": "text"
      },
      "source": [
        "### Defining helper functions\n",
        "Begin by defining some re-usable helper functions. You may want to look ahead to the LinearModel before implementing these to see how they get used. "
      ],
      "cell_type": "markdown"
    },
    {
      "metadata": {
        "id": "vzxWhYPVj-et",
        "colab_type": "code",
        "colab": {
          "autoexec": {
            "startup": false,
            "wait_interval": 0
          }
        }
      },
      "source": [
        "def softmax(logits):\n",
        "  \"\"\"Convert un-normalised model scores(logits) into a probability distribution.\n",
        "\n",
        "  Args:\n",
        "    logits: The un-normalised scores assigned by the model.\n",
        "  \"\"\"\n",
        "  exp_logits = np.exp(logits)\n",
        "  probs = exp_logits / np.sum(exp_logits, axis=1, keepdims=True)\n",
        "  return probs\n",
        "\n",
        "def cross_entropy(predictions, targets):\n",
        "  \"\"\"Calculate the cross entropy loss given some predictions and target (true) values.\n",
        "\n",
        "  Args:\n",
        "    predictions: The model predictions (of shape [num_examples, num_classes])\n",
        "    targets: The correct labels for the data (of shape [num_examples])\n",
        "  \"\"\"\n",
        "  num_examples = predictions.shape[0]\n",
        "  correct_logprobs = -np.log(predictions[range(num_examples), targets])\n",
        "  crossentropy = np.sum(correct_logprobs) / num_examples\n",
        "  return crossentropy\n",
        "\n",
        "def l2_loss(parameters):\n",
        "  \"\"\"Calculate the L2 regularisation of a list of parameters.\"\"\"\n",
        "  reg = 0.0\n",
        "  for param in parameters:\n",
        "    reg += 0.5 * reg_lambda * np.sum(param * param)\n",
        "  return reg"
      ],
      "cell_type": "code",
      "execution_count": 0,
      "outputs": []
    },
    {
      "metadata": {
        "id": "LksU46NvBjlt",
        "colab_type": "text"
      },
      "source": [
        "### Defining the linear model\n",
        "Now we define the linear model itself. We put this in a class so that we can think of it as a \"black box\" that takes in our inputs and returns some predictions and a loss value that tells us how good our predictions are. We can also update the model using its update method. Doing it this way gives a clean separation between the model and training of the model and will be a useful pattern to use going forward."
      ],
      "cell_type": "markdown"
    },
    {
      "metadata": {
        "id": "QzlF2JiS2d5E",
        "colab_type": "code",
        "colab": {
          "autoexec": {
            "startup": false,
            "wait_interval": 0
          }
        }
      },
      "source": [
        "### HYPERPARAMETERS\n",
        "\n",
        "learning_rate = 1e-0  # How far along the gradient do we want to travel when doing \n",
        "                      # gradient descent?\n",
        "reg_lambda = 1e-3  # Regularization strength\n",
        "\n",
        "####\n",
        "\n",
        "# Define the initial random value of W here so we can re-use it later.\n",
        "W_init = 0.01 * np.random.randn(dimensions, num_classes)\n",
        "\n",
        "class LinearModel(object):\n",
        "  def __init__(self):\n",
        "    # Initialize the model parameters.\n",
        "    self.W = np.copy(W_init)\n",
        "    self.b = np.zeros((1, num_classes))\n",
        "  \n",
        "  def predictions(self, X):\n",
        "    \"\"\"Make predictions of classes (y values) given some inputs (X).\"\"\"\n",
        "    # Evaluate class scores/\"logits\": [points_per_class*num_classes x num_classes].\n",
        "    logits = self.get_logits(X)\n",
        "\n",
        "    # Compute the class probabilities.\n",
        "    probs = softmax(logits)\n",
        "    \n",
        "    return probs\n",
        "  \n",
        "  def loss(self, probs, y):\n",
        "    \"\"\"Calculate the loss given model predictions and true targets.\"\"\"\n",
        "    num_examples = probs.shape[0]\n",
        "    data_loss = cross_entropy(probs, y)\n",
        "    regulariser = l2_loss([self.W])\n",
        "    return data_loss + regulariser\n",
        "  \n",
        "  def update(self, probs, X, y):  \n",
        "    \"\"\"Update the model parameters using back-propagation and gradient descent.\"\"\"\n",
        "    # Calculate the gradient of the loss with respect to logits\n",
        "    dlogits = self.derivative_loss_logits(probs, y)  \n",
        "    \n",
        "    # Gradient of the loss wrt W\n",
        "    dW = self.derivative_loss_W(X, dlogits)\n",
        "    \n",
        "    # Gradient of the loss wrt b\n",
        "    db = self.derivative_loss_b(dlogits)\n",
        "    \n",
        "    # Don't forget the gradient on the regularization term.\n",
        "    dW += self.derivative_regularisation()\n",
        "    \n",
        "    # Perform a parameter update.\n",
        "    self.W += -learning_rate * dW\n",
        "    self.b += -learning_rate * db\n",
        "    \n",
        "  \n",
        "  ##### Now we define some helper functions   \n",
        "  # (This is probably where students will have to add lines of code)\n",
        "  def get_logits(self, X):\n",
        "    \"\"\"Calculate the un-normalised model scores.\n",
        "\n",
        "    Args:\n",
        "      X: The input values.\n",
        "    \"\"\"\n",
        "    return np.dot(X, self.W) + self.b \n",
        "\n",
        "  def derivative_loss_logits(self, logits, y):\n",
        "    \"\"\"Calculate the derivative of the loss with respect to logits.\"\"\"\n",
        "    num_examples = y.shape[0]\n",
        "    dlogits = logits\n",
        "    dlogits[range(num_examples),y] -= 1\n",
        "    dlogits /= num_examples\n",
        "    return dlogits\n",
        "  \n",
        "  def derivative_loss_W(self, X, dlogits):\n",
        "    \"\"\"Calculate the derivative of the loss wrt W.\"\"\"\n",
        "    return np.dot(X.T, dlogits)\n",
        "  \n",
        "  def derivative_loss_b(self, dlogits):\n",
        "    \"\"\"Calculate the derivative of the loss wrt b.\"\"\"\n",
        "    return np.sum(dlogits, axis=0, keepdims=True)\n",
        "  \n",
        "  def derivative_regularisation(self):\n",
        "    return reg_lambda * self.W   "
      ],
      "cell_type": "code",
      "execution_count": 0,
      "outputs": []
    },
    {
      "metadata": {
        "id": "tc3wrrwVCQNU",
        "colab_type": "text"
      },
      "source": [
        "### Training the Linear Model\n",
        "Now that we've defined our \"black box\" linear model. We can train it on our dummy spiral dataset"
      ],
      "cell_type": "markdown"
    },
    {
      "metadata": {
        "id": "ARwVZj5zEPTv",
        "colab_type": "code",
        "colab": {
          "autoexec": {
            "startup": false,
            "wait_interval": 0
          }
        }
      },
      "source": [
        "# Define a function that trains a model for a given number of epochs\n",
        "def train_model(model, epochs, report_every):\n",
        "  for i in xrange(epochs):\n",
        "  \n",
        "    # Get the model predictions for our spiral dataset X\n",
        "    probs = model.predictions(X)\n",
        "\n",
        "    # Compute the loss\n",
        "    loss = model.loss(probs, y)\n",
        "\n",
        "    # Print the loss value every `report_every` steps.\n",
        "    if i % report_every == 0:\n",
        "      print \"iteration %d: loss %f\" % (i, loss)\n",
        "\n",
        "    # Use back-propagation to update the model parameters:\n",
        "    model.update(probs, X, y)  "
      ],
      "cell_type": "code",
      "execution_count": 0,
      "outputs": []
    },
    {
      "metadata": {
        "id": "OuR6eFwoCXcf",
        "colab_type": "code",
        "colab": {
          "autoexec": {
            "startup": false,
            "wait_interval": 0
          },
          "output_extras": [
            {
              "item_id": 1
            }
          ],
          "height": 357
        },
        "outputId": "e5759d62-b115-490c-c0c1-e1f40f85357a",
        "executionInfo": {
          "status": "ok",
          "timestamp": 1502216655729,
          "user_tz": -60,
          "elapsed": 93,
          "user": {
            "displayName": "Avishkar Bhoopchand",
            "photoUrl": "//lh5.googleusercontent.com/-OainnMWSi6A/AAAAAAAAAAI/AAAAAAAAAOQ/eI7Z19q5v7E/s50-c-k-no/photo.jpg",
            "userId": "105781587643595215149"
          }
        }
      },
      "source": [
        "# Create an instance of our LinearModel\n",
        "linear_model = LinearModel()\n",
        "\n",
        "# Now we train the linear model for 200 epochs\n",
        "train_model(linear_model, 200, 10)"
      ],
      "cell_type": "code",
      "execution_count": 22,
      "outputs": [
        {
          "output_type": "stream",
          "text": [
            "iteration 0: loss 1.100624\n",
            "iteration 10: loss 0.918448\n",
            "iteration 20: loss 0.851978\n",
            "iteration 30: loss 0.822560\n",
            "iteration 40: loss 0.807703\n",
            "iteration 50: loss 0.799514\n",
            "iteration 60: loss 0.794720\n",
            "iteration 70: loss 0.791788\n",
            "iteration 80: loss 0.789936\n",
            "iteration 90: loss 0.788736\n",
            "iteration 100: loss 0.787944\n",
            "iteration 110: loss 0.787413\n",
            "iteration 120: loss 0.787052\n",
            "iteration 130: loss 0.786805\n",
            "iteration 140: loss 0.786634\n",
            "iteration 150: loss 0.786515\n",
            "iteration 160: loss 0.786432\n",
            "iteration 170: loss 0.786373\n",
            "iteration 180: loss 0.786332\n",
            "iteration 190: loss 0.786302\n"
          ],
          "name": "stdout"
        }
      ]
    },
    {
      "metadata": {
        "id": "1gPfOe1E3W5j",
        "colab_type": "text"
      },
      "source": [
        "### Evaluating the model\n",
        "The training of the model should have converged to a value around 0.786 if you used the default data parameters earlier. (Convergence means that the loss decreases to a point and then stops decreasing). But how do we interpret this? Is our model actually good at making predictions? Let's work out the **accuracy** of the model to see:"
      ],
      "cell_type": "markdown"
    },
    {
      "metadata": {
        "id": "PH-cpnO-Er6F",
        "colab_type": "code",
        "colab": {
          "autoexec": {
            "startup": false,
            "wait_interval": 0
          }
        }
      },
      "source": [
        "# Define a function that calcuates and prints the accuracy of a model's predictions\n",
        "def evaluate_model(model):\n",
        "  # Get the probabilites/scores that the model assigns to each class for each X datapoint.\n",
        "  scores = model.get_logits(X)  # The shape of scores is [num_data_points, num_classes]\n",
        "\n",
        "  # The index of the maximum score along the 2nd dimension is the class that the model thinks is most likely (y^) for each datapoint.\n",
        "  predicted_class = np.argmax(scores, axis=1)\n",
        "\n",
        "  # What proportion of the class predictions made by the model (y^) agree with the true class values (y) ?\n",
        "  print 'Accuracy: %.2f' % (np.mean(predicted_class == y))  "
      ],
      "cell_type": "code",
      "execution_count": 0,
      "outputs": []
    },
    {
      "metadata": {
        "id": "KC_V-9pn3Zpi",
        "colab_type": "code",
        "colab": {
          "autoexec": {
            "startup": false,
            "wait_interval": 0
          },
          "output_extras": [
            {
              "item_id": 1
            }
          ],
          "height": 34
        },
        "outputId": "d88d1f23-2124-46f5-8004-ac00c5d616cf",
        "executionInfo": {
          "status": "ok",
          "timestamp": 1502216747115,
          "user_tz": -60,
          "elapsed": 53,
          "user": {
            "displayName": "Avishkar Bhoopchand",
            "photoUrl": "//lh5.googleusercontent.com/-OainnMWSi6A/AAAAAAAAAAI/AAAAAAAAAOQ/eI7Z19q5v7E/s50-c-k-no/photo.jpg",
            "userId": "105781587643595215149"
          }
        }
      },
      "source": [
        "# Now evaluate the trained linear model\n",
        "evaluate_model(linear_model)"
      ],
      "cell_type": "code",
      "execution_count": 33,
      "outputs": [
        {
          "output_type": "stream",
          "text": [
            "Accuracy: 0.49\n"
          ],
          "name": "stdout"
        }
      ]
    },
    {
      "metadata": {
        "id": "z_b6b1GyGmod",
        "colab_type": "text"
      },
      "source": [
        "This is not a very good result (we are misclassifying around 50% of the data points, and these are data points that we've seen before!), lets visualise the decision boundary to determine what's going on."
      ],
      "cell_type": "markdown"
    },
    {
      "metadata": {
        "id": "i00J82lT3iKt",
        "colab_type": "text"
      },
      "source": [
        "### Visualizing the Linear Model's Decision Boundary\n",
        "\n",
        "Let's visualize the decision boundary of this linear classifier on the swiss roll dataset.\n"
      ],
      "cell_type": "markdown"
    },
    {
      "metadata": {
        "id": "2qtWT9HYlwZ2",
        "colab_type": "code",
        "colab": {
          "autoexec": {
            "startup": false,
            "wait_interval": 0
          }
        }
      },
      "source": [
        "# Define a function that plots the decision boundary of a model\n",
        "def plot_decision_boundary(X, model):\n",
        "  \"\"\"Overlays the classifier's decision boundary on the dataset [X, y].\n",
        "  \n",
        "  Args:\n",
        "    X: 2-d matrix input data,\n",
        "    model: The model to evaluate\n",
        "  \"\"\"\n",
        "  \n",
        "  step_size = 0.02  # Discretization step-size\n",
        "  \n",
        "  # Get the boundaries of the dataset.\n",
        "  x_min, x_max = X[:, 0].min() - 1, X[:, 0].max() + 1\n",
        "  y_min, y_max = X[:, 1].min() - 1, X[:, 1].max() + 1\n",
        "  # Generate a grid of points, step_size apart, over the above region.\n",
        "  xx, yy = np.meshgrid(np.arange(x_min, x_max, step_size),\n",
        "                       np.arange(y_min, y_max, step_size))\n",
        "  \n",
        "  # Flatten the data and get the logits of the classifier (the \"scores\") for \n",
        "  #   each point in the generated mesh-grid.\n",
        "  meshgrid_matrix = np.c_[xx.ravel(), yy.ravel()]\n",
        "  Z = model.get_logits(meshgrid_matrix)\n",
        "  \n",
        "  # Get the class predictions for each point.\n",
        "  Z = np.argmax(Z, axis=1)\n",
        "  Z = Z.reshape(xx.shape)\n",
        "  \n",
        "  # Overlay both of these on one figure.\n",
        "  fig = plt.figure()\n",
        "  plt.contourf(xx, yy, Z, cmap=plt.cm.Spectral, alpha=0.8)\n",
        "  plt.scatter(X[:, 0], X[:, 1], c=y, s=40, cmap=plt.cm.Spectral)\n",
        "  plt.xlim(xx.min(), xx.max())\n",
        "  plt.ylim(yy.min(), yy.max())\n",
        "  #fig.savefig('spiral_linear.png')"
      ],
      "cell_type": "code",
      "execution_count": 0,
      "outputs": []
    },
    {
      "metadata": {
        "id": "-oAjAAmp3mK-",
        "colab_type": "code",
        "colab": {
          "autoexec": {
            "startup": false,
            "wait_interval": 0
          },
          "output_extras": [
            {
              "item_id": 1
            }
          ],
          "height": 494
        },
        "outputId": "4c31d9c3-6b49-4985-e671-1e268c9955fc",
        "executionInfo": {
          "status": "ok",
          "timestamp": 1502216678943,
          "user_tz": -60,
          "elapsed": 277,
          "user": {
            "displayName": "Avishkar Bhoopchand",
            "photoUrl": "//lh5.googleusercontent.com/-OainnMWSi6A/AAAAAAAAAAI/AAAAAAAAAOQ/eI7Z19q5v7E/s50-c-k-no/photo.jpg",
            "userId": "105781587643595215149"
          }
        }
      },
      "source": [
        "# Plot the decision boundary of our trained linear model on the dataset X\n",
        "plot_decision_boundary(X, linear_model)"
      ],
      "cell_type": "code",
      "execution_count": 27,
      "outputs": [
        {
          "output_type": "display_data",
          "data": {
            "text/plain": [
              "<matplotlib.figure.Figure at 0xc687710>"
            ],
            "image/png": "[encoded data removed]"
          },
          "metadata": {
            "tags": []
          }
        }
      ]
    },
    {
      "metadata": {
        "id": "AjDp48EyGymu",
        "colab_type": "text"
      },
      "source": [
        "What can you deduce from this decision boundary? Does it help explain why the linear model makes bad predictions? "
      ],
      "cell_type": "markdown"
    },
    {
      "metadata": {
        "id": "69-CauTN3z5a",
        "colab_type": "text"
      },
      "source": [
        "## Using a nonlinear model\n",
        "\n",
        "The linear model resulted in decision boundaries that were straight lines in 2D space. Using these straight lines, it is impossible to accurately separate our spiral-shaped data. Let's see how converting our model to be a non-linear function of its parameters could resolve this. "
      ],
      "cell_type": "markdown"
    },
    {
      "metadata": {
        "id": "w4yeK8xcDqUv",
        "colab_type": "text"
      },
      "source": [
        "### Defining helper functions\n",
        "We will re-use the helper functions we defined earlier, but we also need a new helper **activation function** to introduce non-linearity into our model."
      ],
      "cell_type": "markdown"
    },
    {
      "metadata": {
        "id": "gEkGKe7ZD35_",
        "colab_type": "code",
        "colab": {
          "autoexec": {
            "startup": false,
            "wait_interval": 0
          }
        }
      },
      "source": [
        "def relu(value):\n",
        "  \"\"\" ReLU is the \"Rectified Linear Unit activation function\", defined as:\n",
        "        relu(x) = x if x > 0, and 0 if x <= 0\n",
        "  \"\"\"\n",
        "  return np.maximum(0, value)  "
      ],
      "cell_type": "code",
      "execution_count": 0,
      "outputs": []
    },
    {
      "metadata": {
        "id": "vOZd0ZxxD7Um",
        "colab_type": "text"
      },
      "source": [
        "### Defining the Non-Linear model\n",
        "We define this as a class with the same interface as the LinearModel. This way we can reuse exactly the same training and evaluation functions we defined earlier!"
      ],
      "cell_type": "markdown"
    },
    {
      "metadata": {
        "id": "1HsSVOuQ37R0",
        "colab_type": "code",
        "colab": {
          "autoexec": {
            "startup": false,
            "wait_interval": 0
          }
        }
      },
      "source": [
        "### HYPERPARAMETERS\n",
        "\n",
        "learning_rate = 1e-0  # How far along the gradient do we want to travel when doing \n",
        "                      # gradient descent?\n",
        "reg_lambda = 1e-3  # Regularization strength\n",
        "num_hidden = 100  # Size of hidden layer.\n",
        "####\n",
        "\n",
        "non_linear_W_init = 0.01 * np.random.randn(dimensions, num_hidden)\n",
        "non_linear_W2_init = 0.01 * np.random.randn(num_hidden, num_classes)\n",
        "\n",
        "\n",
        "class NonLinearModel(object):\n",
        "  def __init__(self):\n",
        "    # Initialize the model parameters.\n",
        "    self.W = non_linear_W_init\n",
        "    self.b = np.zeros((1, num_hidden))\n",
        "    self.W2 = non_linear_W2_init\n",
        "    self.b2 = np.zeros((1, num_classes))\n",
        "\n",
        "  def predictions(self, X):\n",
        "    \"\"\"Make predictions of classes (y values) given some inputs (X).\"\"\"\n",
        "    # Evaluate class scores/\"logits\": [points_per_class*num_classes x num_classes].\n",
        "    logits = self.get_logits(X)\n",
        "\n",
        "    # Compute the class probabilities.\n",
        "    probs = softmax(logits)\n",
        "    \n",
        "    return probs\n",
        "  \n",
        "  def loss(self, probs, y):\n",
        "    \"\"\"Calculate the loss given model predictions and true targets.\"\"\"\n",
        "    data_loss = cross_entropy(probs, y)\n",
        "    regulariser = l2_loss([self.W, self.W2])\n",
        "    return data_loss + regulariser\n",
        "  \n",
        "  def update(self, probs, X, y):  \n",
        "    \"\"\"Update the model parameters using back-propagation and gradient descent.\"\"\"\n",
        "    hidden_output = self.hidden_layer(X)\n",
        "    \n",
        "    # Calculate the gradient of the loss with respect to logits\n",
        "    dlogits = self.derivative_loss_logits(probs, y)  \n",
        "    \n",
        "    # Backpropate the gradient to the parameters.\n",
        "    \n",
        "    # We first backprop into parameters W2 and b2.\n",
        "    dW2 = self.derivative_loss_W2(hidden_output, dlogits)\n",
        "    db2 = self.derivative_loss_b2(dlogits)\n",
        "\n",
        "    # Next, backprop into the hidden layer.\n",
        "    dhidden = self.derivative_hidden(hidden_output, dlogits)\n",
        "\n",
        "    # Finally, backprop into W,b.\n",
        "    dW = self.derivative_loss_W(X, dhidden)\n",
        "    db = self.derivative_loss_b(dhidden)\n",
        "\n",
        "    # Add regularization gradient contribution.\n",
        "    dW2 += self.derivative_regularisation_W2()\n",
        "    dW += self.derivative_regularisation_W()\n",
        "\n",
        "    # Perform a parameter update (one step of gradient descent).\n",
        "    self.W += -learning_rate * dW\n",
        "    self.b += -learning_rate * db\n",
        "    self.W2 += -learning_rate * dW2\n",
        "    self.b2 += -learning_rate * db2\n",
        "    \n",
        "\n",
        "  ## DEFINE THE MODEL HELPER FUNCTIONS  \n",
        "  \n",
        "  def hidden_layer(self, X):\n",
        "    \"\"\"Calculate the output of the hidden layer.\"\"\"\n",
        "    return relu(np.dot(X, self.W) + self.b)\n",
        "    \n",
        "  def get_logits(self, X):\n",
        "    \"\"\"Calculate the logits from the input data X.\"\"\"\n",
        "    hidden_output = self.hidden_layer(X)\n",
        "    logits = np.dot(hidden_output, self.W2) + self.b2\n",
        "    return logits\n",
        "  \n",
        "  def derivative_loss_logits(self, logits, y):\n",
        "    \"\"\"Calculate the derivative of the loss with respect to logits.\"\"\"\n",
        "    num_examples = y.shape[0]\n",
        "    dlogits = logits\n",
        "    dlogits[range(num_examples),y] -= 1\n",
        "    dlogits /= num_examples\n",
        "    return dlogits\n",
        "  \n",
        "  def derivative_loss_W2(self, hidden_output, dlogits):\n",
        "    \"\"\"Calculate the derivative of the loss wrt W2.\"\"\"\n",
        "    dW2 = np.dot(hidden_output.T, dlogits)\n",
        "    return dW2\n",
        "  \n",
        "  def derivative_loss_b2(self, dlogits):\n",
        "    \"\"\"Calculate the derivative of the loss wrt b2.\"\"\"\n",
        "    return np.sum(dlogits, axis=0, keepdims=True)\n",
        "    \n",
        "  def derivative_hidden(self, hidden_output, dlogits):\n",
        "    \"\"\"Calculate the derivative of the loss wrt the hidden layer.\"\"\"\n",
        "    # Calculate the gradient as if the hidden layer were a normal linear layer. \n",
        "    dhidden = np.dot(dlogits, self.W2.T)\n",
        "    \n",
        "    # Now take the Relu non-linearity into account\n",
        "    dhidden[hidden_output <= 0] = 0\n",
        "    \n",
        "    return dhidden\n",
        "    \n",
        "  def derivative_loss_W(self, X, dhidden):\n",
        "    \"\"\"Calculate the derivative of the loss wrt W.\"\"\"\n",
        "    return np.dot(X.T, dhidden)\n",
        "  \n",
        "  def derivative_loss_b(self, dhidden):\n",
        "    \"\"\"Calculate the derivative of the loss wrt b.\"\"\"\n",
        "    return np.sum(dhidden, axis=0, keepdims=True)\n",
        "  \n",
        "  def derivative_regularisation_W(self):\n",
        "    \"\"\"Calculate the gradient of the L2 loss wrt W.\"\"\"\n",
        "    return reg_lambda * self.W \n",
        "  \n",
        "  def derivative_regularisation_W2(self):\n",
        "    \"\"\"Calculate the gradient of the L2 loss wrt W2.\"\"\"\n",
        "    return reg_lambda * self.W2"
      ],
      "cell_type": "code",
      "execution_count": 0,
      "outputs": []
    },
    {
      "metadata": {
        "id": "f8tDrHHRFdcs",
        "colab_type": "text"
      },
      "source": [
        "### Train the Non Linear Model"
      ],
      "cell_type": "markdown"
    },
    {
      "metadata": {
        "id": "ntVMzdM8Fg9u",
        "colab_type": "code",
        "colab": {
          "autoexec": {
            "startup": false,
            "wait_interval": 0
          },
          "output_extras": [
            {
              "item_id": 10
            }
          ],
          "height": 187
        },
        "outputId": "ee44f987-8d6a-4e27-f02b-3736fcc1fa6d",
        "executionInfo": {
          "status": "ok",
          "timestamp": 1502216699111,
          "user_tz": -60,
          "elapsed": 9994,
          "user": {
            "displayName": "Avishkar Bhoopchand",
            "photoUrl": "//lh5.googleusercontent.com/-OainnMWSi6A/AAAAAAAAAAI/AAAAAAAAAOQ/eI7Z19q5v7E/s50-c-k-no/photo.jpg",
            "userId": "105781587643595215149"
          }
        }
      },
      "source": [
        "# Create an instance of our non-linear model.\n",
        "non_linear_model = NonLinearModel()\n",
        "\n",
        "# Train the model for 10000 epochs\n",
        "train_model(non_linear_model, 10000, 1000)"
      ],
      "cell_type": "code",
      "execution_count": 30,
      "outputs": [
        {
          "output_type": "stream",
          "text": [
            "iteration 0: loss 1.098728\n",
            "iteration 1000: loss 0.294024\n",
            "iteration 2000: loss 0.257186\n",
            "iteration 3000: loss 0.248922\n",
            "iteration 4000: loss 0.246138\n",
            "iteration 5000: loss 0.245244\n",
            "iteration 6000: loss 0.244853\n",
            "iteration 7000: loss 0.244698\n",
            "iteration 8000: loss 0.244618\n",
            "iteration 9000: loss 0.244265\n"
          ],
          "name": "stdout"
        }
      ]
    },
    {
      "metadata": {
        "id": "eEseRPX_4C6g",
        "colab_type": "code",
        "colab": {
          "autoexec": {
            "startup": false,
            "wait_interval": 0
          },
          "output_extras": [
            {
              "item_id": 1
            }
          ],
          "height": 34
        },
        "outputId": "9252e60a-658c-4b36-8118-bbd18bd040d3",
        "executionInfo": {
          "status": "ok",
          "timestamp": 1502216754283,
          "user_tz": -60,
          "elapsed": 47,
          "user": {
            "displayName": "Avishkar Bhoopchand",
            "photoUrl": "//lh5.googleusercontent.com/-OainnMWSi6A/AAAAAAAAAAI/AAAAAAAAAOQ/eI7Z19q5v7E/s50-c-k-no/photo.jpg",
            "userId": "105781587643595215149"
          }
        }
      },
      "source": [
        "# evaluate training set accuracy of the non-linear model\n",
        "evaluate_model(non_linear_model)"
      ],
      "cell_type": "code",
      "execution_count": 34,
      "outputs": [
        {
          "output_type": "stream",
          "text": [
            "Accuracy: 0.98\n"
          ],
          "name": "stdout"
        }
      ]
    },
    {
      "metadata": {
        "id": "tmcEejSmIGLc",
        "colab_type": "text"
      },
      "source": [
        "Much better! Is it possible to get to 100%? What factors about the dataset would influence this?"
      ],
      "cell_type": "markdown"
    },
    {
      "metadata": {
        "id": "Fu5JRcMtYOms",
        "colab_type": "text"
      },
      "source": [
        "### Visualize the Nonlinear Model's Decision Boundary\n",
        "Lets see what the decision boundary of the non-linear model looks like"
      ],
      "cell_type": "markdown"
    },
    {
      "metadata": {
        "id": "gb3KwDN84P8z",
        "colab_type": "code",
        "colab": {
          "autoexec": {
            "startup": false,
            "wait_interval": 0
          },
          "output_extras": [
            {
              "item_id": 1
            }
          ],
          "height": 494
        },
        "outputId": "822b5628-313e-40f4-a9c8-59901a12cf38",
        "executionInfo": {
          "status": "ok",
          "timestamp": 1502216795644,
          "user_tz": -60,
          "elapsed": 567,
          "user": {
            "displayName": "Avishkar Bhoopchand",
            "photoUrl": "//lh5.googleusercontent.com/-OainnMWSi6A/AAAAAAAAAAI/AAAAAAAAAOQ/eI7Z19q5v7E/s50-c-k-no/photo.jpg",
            "userId": "105781587643595215149"
          }
        }
      },
      "source": [
        "# Plot the decision boundary of the non-linear model on the dataset X\n",
        "plot_decision_boundary(X, non_linear_model)"
      ],
      "cell_type": "code",
      "execution_count": 35,
      "outputs": [
        {
          "output_type": "display_data",
          "data": {
            "text/plain": [
              "<matplotlib.figure.Figure at 0xbb8fe10>"
            ],
            "image/png": "[encoded data removed]"
          },
          "metadata": {
            "tags": []
          }
        }
      ]
    },
    {
      "metadata": {
        "id": "RsR2U3klH5SU",
        "colab_type": "text"
      },
      "source": [
        "# Using TensorFlow\n",
        "\n",
        "The above models worked well, but it was a little tedius to implement the gradients by hand. Let's re-implement the above models using TensorFlow and see how it compares."
      ],
      "cell_type": "markdown"
    },
    {
      "metadata": {
        "id": "OGrFDQ1KGmv8",
        "colab_type": "text"
      },
      "source": [
        "### Define hyperparameters"
      ],
      "cell_type": "markdown"
    },
    {
      "metadata": {
        "id": "MMTIs4bYKgCX",
        "colab_type": "code",
        "colab": {
          "autoexec": {
            "startup": false,
            "wait_interval": 0
          }
        }
      },
      "source": [
        "# First we need to import TensorFlow.\n",
        "import tensorflow as tf\n",
        "\n",
        "tf.reset_default_graph()\n",
        "\n",
        "### HYPERPARAMETERS\n",
        "learning_rate = 1e-0\n",
        "reg_lambda = 1e-3\n",
        "training_iterations = 200  # 'epochs'\n",
        "batch_size = X.shape[0]  # The whole dataset; i.e. batch gradient descent.\n",
        "display_step = 10  # How often should we print our results\n",
        "###\n",
        "\n",
        "# Network Parameters\n",
        "num_input = 2 # 2-dimensional input data\n",
        "num_classes = 3 # red, yellow and blue!\n",
        "# TODO(avishkar): Just re-use the values defined previously?\n",
        "\n",
        "# placeholders for the inputs and labels. We will 'feed' these to the graph.\n",
        "x_tf = tf.placeholder(tf.float32, [None, num_input])\n",
        "y_tf = tf.placeholder(tf.int32, [None])"
      ],
      "cell_type": "code",
      "execution_count": 0,
      "outputs": []
    },
    {
      "metadata": {
        "id": "eyfHfdka9NKY",
        "colab_type": "text"
      },
      "source": [
        "### Define helper functions\n",
        "Lets create some helper functions that we can re-use in the Tensorflow models. We need fewer than before because Tensorflow already provides lots of useful functions out the box! "
      ],
      "cell_type": "markdown"
    },
    {
      "metadata": {
        "id": "CRWJAimx9MXm",
        "colab_type": "code",
        "colab": {
          "autoexec": {
            "startup": false,
            "wait_interval": 0
          }
        }
      },
      "source": [
        "def cross_entropy_tf(predictions, targets):\n",
        "  \"\"\"Calculate the cross entropy loss given some model predictions and target (true) values.\"\"\"\n",
        "  targets = tf.one_hot(targets, num_classes)\n",
        "  return tf.reduce_mean(-tf.reduce_sum(targets * tf.log(predictions), axis=1))"
      ],
      "cell_type": "code",
      "execution_count": 0,
      "outputs": []
    },
    {
      "metadata": {
        "id": "YocWzSZFXMQL",
        "colab_type": "text"
      },
      "source": [
        "## Linear Model"
      ],
      "cell_type": "markdown"
    },
    {
      "metadata": {
        "id": "YlhRC4-gWSUU",
        "colab_type": "text"
      },
      "source": [
        "We construct a linear model with the same architecture as above. Notice how TensorFlow provides out-the-box many of the functions we had to previously define ourselves. There is another major difference between the TensorFlow code and Numpy code that may not be immediately apparant. In TensorFlow, when we call functions like tf.nn.softmax() we are not performing a computation, rather we are defining an operation in a calculation graph that gets run later. "
      ],
      "cell_type": "markdown"
    },
    {
      "metadata": {
        "id": "UcS63poGGTYr",
        "colab_type": "code",
        "colab": {
          "autoexec": {
            "startup": false,
            "wait_interval": 0
          }
        }
      },
      "source": [
        "class TFLinearModel(object):\n",
        "  def __init__(self):\n",
        "    # Initialise the variables\n",
        "    # Tensorflow variables can be updated automatically by optimisers.\n",
        "    self.W = tf.Variable(W_init, dtype=tf.float32)\n",
        "    self.b = tf.Variable(tf.zeros([num_classes]), dtype=tf.float32)\n",
        "\n",
        "  def predictions(self, X):\n",
        "    \"\"\"Make predictions of classes (y values) given some inputs (X).\"\"\"\n",
        "    logits = self.get_logits(X)\n",
        "\n",
        "    # Compute the class probabilities.\n",
        "    probs = tf.nn.softmax(logits)\n",
        "    \n",
        "    return probs\n",
        "  \n",
        "  def loss(self, probs, y):\n",
        "    \"\"\"Calculate the loss given model predictions and true targets.\"\"\"\n",
        "    data_loss = cross_entropy_tf(probs, y)\n",
        "    regulariser = reg_lambda * tf.nn.l2_loss(self.W)\n",
        "    return data_loss + regulariser\n",
        "    \n",
        "  def get_logits(self, X):\n",
        "    return tf.add(tf.matmul(X, self.W), self.b)"
      ],
      "cell_type": "code",
      "execution_count": 0,
      "outputs": []
    },
    {
      "metadata": {
        "id": "tZMShhHyOYAq",
        "colab_type": "text"
      },
      "source": [
        "**TODO(sgouws)**: Discuss that this op wraps computation of grandients (backprop) as well as updating of parameters (optimization).\n",
        "\n",
        "Remember, up until now we've been defining a calculation graph. Now we can run this graph multiple times, feeding in our data, in a training loop. The training loop is a bit more complex than before, but by wrapping up our models in classes, we can again benefit from the re-using the same training loop on multiple models."
      ],
      "cell_type": "markdown"
    },
    {
      "metadata": {
        "id": "CLlW9MiUHutE",
        "colab_type": "code",
        "colab": {
          "autoexec": {
            "startup": false,
            "wait_interval": 0
          }
        }
      },
      "source": [
        "def train_tf_model(tf_model, epochs, report_every):\n",
        "  \n",
        "  # Get the op which, when executed, will initialize the variables.\n",
        "  init = tf.global_variables_initializer()\n",
        "  \n",
        "  # Get the model probabilities\n",
        "  probs = tf_model.predictions(x_tf)\n",
        "  \n",
        "  # Get the model loss\n",
        "  loss = tf_model.loss(probs, y_tf)\n",
        "  \n",
        "  # Compute the gradient of the loss with respect to the model parameters \n",
        "  # and perform one parameter update in the direction of the gradients \n",
        "  # (take one 'step')\n",
        "  optimizer_step = tf.train.GradientDescentOptimizer(learning_rate=learning_rate).minimize(loss)\n",
        "\n",
        "  with tf.Session() as sess:\n",
        "    # Actually initialize the variables (run the op).\n",
        "    sess.run(init)\n",
        "\n",
        "    # Training cycle.\n",
        "    for iteration in range(epochs):\n",
        "        avg_cost = 0.\n",
        "        total_batch = int(X.shape[0] / batch_size)\n",
        "\n",
        "        # Loop over all batches.\n",
        "        for i in range(total_batch):\n",
        "\n",
        "            batch_x = X[i * batch_size : (i + 1) * batch_size, :]\n",
        "            batch_y = y[i * batch_size : (i + 1) * batch_size]\n",
        "\n",
        "            # Run optimization op (backprop) and cost op (to get loss value).\n",
        "            _, c = sess.run([optimizer_step, loss], feed_dict={x_tf: batch_x,\n",
        "                                                               y_tf: batch_y})\n",
        "            # Compute average loss.\n",
        "            avg_cost += c / total_batch\n",
        "\n",
        "        # Display logs per iteration/epoch step.\n",
        "        if iteration % report_every == 0:\n",
        "            print \"Iteration:\", '%04d' % (iteration + 1), \"cost=\", \\\n",
        "                \"{:.9f}\".format(avg_cost)\n",
        "\n",
        "    print \"Optimization Finished!\"\n",
        "  \n",
        "\n",
        "\n",
        "# Test model\n",
        "# TODO: Hold out and calculate accuracy on actual held-out data\n",
        "#correct_prediction = tf.equal(tf.argmax(probs, 1), y_tf)\n",
        "#accuracy = tf.reduce_mean(tf.cast(correct_prediction, \"float\"))\n",
        "#print \"Accuracy:\", accuracy.eval({x_tf: X, y_tf: y})\n"
      ],
      "cell_type": "code",
      "execution_count": 0,
      "outputs": []
    },
    {
      "metadata": {
        "id": "jQt4FzSbHvKq",
        "colab_type": "code",
        "colab": {
          "autoexec": {
            "startup": false,
            "wait_interval": 0
          },
          "output_extras": [
            {
              "item_id": 1
            }
          ],
          "height": 374
        },
        "outputId": "8b0bff6a-321b-41b2-88f1-a2b507287175",
        "executionInfo": {
          "status": "ok",
          "timestamp": 1502217532196,
          "user_tz": -60,
          "elapsed": 495,
          "user": {
            "displayName": "Avishkar Bhoopchand",
            "photoUrl": "//lh5.googleusercontent.com/-OainnMWSi6A/AAAAAAAAAAI/AAAAAAAAAOQ/eI7Z19q5v7E/s50-c-k-no/photo.jpg",
            "userId": "105781587643595215149"
          }
        }
      },
      "source": [
        "# Intialize our TensorFlow Linear Model\n",
        "tf_linear_model = TFLinearModel()\n",
        "\n",
        "# Train the model for 200 epochs\n",
        "train_tf_model(tf_linear_model, 200, 10)\n"
      ],
      "cell_type": "code",
      "execution_count": 51,
      "outputs": [
        {
          "output_type": "stream",
          "text": [
            "Iteration: 0001 cost= 1.100624442\n",
            "Iteration: 0011 cost= 0.918447912\n",
            "Iteration: 0021 cost= 0.851978481\n",
            "Iteration: 0031 cost= 0.822559595\n",
            "Iteration: 0041 cost= 0.807702661\n",
            "Iteration: 0051 cost= 0.799514115\n",
            "Iteration: 0061 cost= 0.794719875\n",
            "Iteration: 0071 cost= 0.791787982\n",
            "Iteration: 0081 cost= 0.789935768\n",
            "Iteration: 0091 cost= 0.788736284\n",
            "Iteration: 0101 cost= 0.787944198\n",
            "Iteration: 0111 cost= 0.787413001\n",
            "Iteration: 0121 cost= 0.787052453\n",
            "Iteration: 0131 cost= 0.786805093\n",
            "Iteration: 0141 cost= 0.786634088\n",
            "Iteration: 0151 cost= 0.786515117\n",
            "Iteration: 0161 cost= 0.786431789\n",
            "Iteration: 0171 cost= 0.786373198\n",
            "Iteration: 0181 cost= 0.786331892\n",
            "Iteration: 0191 cost= 0.786302507\n",
            "Optimization Finished!\n"
          ],
          "name": "stdout"
        }
      ]
    },
    {
      "metadata": {
        "id": "Ltr_n567HPEj",
        "colab_type": "text"
      },
      "source": [
        "**NOTE**: Our final cost (0.786) matches the final cost reached in our Numpy implementation above. This is not by accident, but because we used exactly the same initial values for the parameters, the same optimizer with the same update rules on the same data. (The exact value may be different if you changed some of the HyperParameters)\n",
        "\n",
        "Notice how much less code we had to write for the TensorFlow model compared to the Numpy one earlier! TensorFlow is designed for deep learning and provides a number of common functions. In fact, it's possible to define a linear model like this in even fewer lines in TensorFlow, but we wanted to make this example as clear as possible!"
      ],
      "cell_type": "markdown"
    },
    {
      "metadata": {
        "id": "1OFoR4Oz8CNF",
        "colab_type": "text"
      },
      "source": [
        "### Visualizing the linear model's decision boundary\n",
        "\n",
        "**TODO**: wrap the computation of logits above in a function, and pass this to plot_decision_boundary"
      ],
      "cell_type": "markdown"
    },
    {
      "metadata": {
        "id": "i38AYE4F8Bal",
        "colab_type": "code",
        "colab": {
          "autoexec": {
            "startup": false,
            "wait_interval": 0
          },
          "output_extras": [
            {
              "item_id": 1
            }
          ],
          "height": 2077
        },
        "outputId": "37bec875-e436-42ac-f8f2-0d63a7aeac9b",
        "executionInfo": {
          "status": "error",
          "timestamp": 1501517936299,
          "user_tz": -60,
          "elapsed": 300,
          "user": {
            "displayName": "Stephan Gouws",
            "photoUrl": "//lh4.googleusercontent.com/-6znVyM1oxdg/AAAAAAAAAAI/AAAAAAAAABI/vEPo2Ce7Rpc/s50-c-k-no/photo.jpg",
            "userId": "102606466886131565871"
          }
        }
      },
      "source": [
        "def get_logits_linear_tf_wrapper(x):\n",
        "  with tf.Session() as sess:\n",
        "    return sess.run([logits], feed_dict={x_tf : x,\n",
        "                                         y_tf : np.zeros(X.shape[0])})\n",
        "  \n",
        "plot_decision_boundary(X, get_logits_linear_tf_wrapper)"
      ],
      "cell_type": "code",
      "execution_count": 33,
      "outputs": [
        {
          "output_type": "error",
          "ename": "FailedPreconditionError",
          "evalue": "ignored",
          "traceback": [
            "\u001b[1;31m---------------------------------------------------------------------------\u001b[0m\n\u001b[1;31mFailedPreconditionError\u001b[0m                   Traceback (most recent call last)",
            "\u001b[1;32m<ipython-input-33-d01975bfb160>\u001b[0m in \u001b[0;36m<module>\u001b[1;34m()\u001b[0m\n\u001b[0;32m      4\u001b[0m                                          y_tf : np.zeros(X.shape[0])})\n\u001b[0;32m      5\u001b[0m \u001b[1;33m\u001b[0m\u001b[0m\n\u001b[1;32m----> 6\u001b[1;33m \u001b[0mplot_decision_boundary\u001b[0m\u001b[1;33m(\u001b[0m\u001b[0mX\u001b[0m\u001b[1;33m,\u001b[0m \u001b[0mget_logits_linear_tf_wrapper\u001b[0m\u001b[1;33m)\u001b[0m\u001b[1;33m\u001b[0m\u001b[0m\n\u001b[0m",
            "\u001b[1;32m<ipython-input-5-1d92ec7c1bda>\u001b[0m in \u001b[0;36mplot_decision_boundary\u001b[1;34m(X, get_logits_fn)\u001b[0m\n\u001b[0;32m     20\u001b[0m   \u001b[1;31m#   each point in the generated mesh-grid.\u001b[0m\u001b[1;33m\u001b[0m\u001b[1;33m\u001b[0m\u001b[0m\n\u001b[0;32m     21\u001b[0m   \u001b[0mmeshgrid_matrix\u001b[0m \u001b[1;33m=\u001b[0m \u001b[0mnp\u001b[0m\u001b[1;33m.\u001b[0m\u001b[0mc_\u001b[0m\u001b[1;33m[\u001b[0m\u001b[0mxx\u001b[0m\u001b[1;33m.\u001b[0m\u001b[0mravel\u001b[0m\u001b[1;33m(\u001b[0m\u001b[1;33m)\u001b[0m\u001b[1;33m,\u001b[0m \u001b[0myy\u001b[0m\u001b[1;33m.\u001b[0m\u001b[0mravel\u001b[0m\u001b[1;33m(\u001b[0m\u001b[1;33m)\u001b[0m\u001b[1;33m]\u001b[0m\u001b[1;33m\u001b[0m\u001b[0m\n\u001b[1;32m---> 22\u001b[1;33m   \u001b[0mZ\u001b[0m \u001b[1;33m=\u001b[0m \u001b[0mget_logits_fn\u001b[0m\u001b[1;33m(\u001b[0m\u001b[0mmeshgrid_matrix\u001b[0m\u001b[1;33m)\u001b[0m\u001b[1;33m\u001b[0m\u001b[0m\n\u001b[0m\u001b[0;32m     23\u001b[0m \u001b[1;33m\u001b[0m\u001b[0m\n\u001b[0;32m     24\u001b[0m   \u001b[1;31m# Get the class predictions for each point.\u001b[0m\u001b[1;33m\u001b[0m\u001b[1;33m\u001b[0m\u001b[0m\n",
            "\u001b[1;32m<ipython-input-33-d01975bfb160>\u001b[0m in \u001b[0;36mget_logits_linear_tf_wrapper\u001b[1;34m(x)\u001b[0m\n\u001b[0;32m      2\u001b[0m   \u001b[1;32mwith\u001b[0m \u001b[0mtf\u001b[0m\u001b[1;33m.\u001b[0m\u001b[0mSession\u001b[0m\u001b[1;33m(\u001b[0m\u001b[1;33m)\u001b[0m \u001b[1;32mas\u001b[0m \u001b[0msess\u001b[0m\u001b[1;33m:\u001b[0m\u001b[1;33m\u001b[0m\u001b[0m\n\u001b[0;32m      3\u001b[0m     return sess.run([logits], feed_dict={x_tf : x,\n\u001b[1;32m----> 4\u001b[1;33m                                          y_tf : np.zeros(X.shape[0])})\n\u001b[0m\u001b[0;32m      5\u001b[0m \u001b[1;33m\u001b[0m\u001b[0m\n\u001b[0;32m      6\u001b[0m \u001b[0mplot_decision_boundary\u001b[0m\u001b[1;33m(\u001b[0m\u001b[0mX\u001b[0m\u001b[1;33m,\u001b[0m \u001b[0mget_logits_linear_tf_wrapper\u001b[0m\u001b[1;33m)\u001b[0m\u001b[1;33m\u001b[0m\u001b[0m\n",
            "\u001b[1;32m/google/src/cloud/sgouws/colab/google3/blaze-bin/learning/brain/python/client/colab_notebook.par/google3/third_party/tensorflow/python/client/session.py\u001b[0m in \u001b[0;36mrun\u001b[1;34m(self, fetches, feed_dict, options, run_metadata)\u001b[0m\n\u001b[0;32m    888\u001b[0m     \u001b[1;32mtry\u001b[0m\u001b[1;33m:\u001b[0m\u001b[1;33m\u001b[0m\u001b[0m\n\u001b[0;32m    889\u001b[0m       result = self._run(None, fetches, feed_dict, options_ptr,\n\u001b[1;32m--> 890\u001b[1;33m                          run_metadata_ptr)\n\u001b[0m\u001b[0;32m    891\u001b[0m       \u001b[1;32mif\u001b[0m \u001b[0mrun_metadata\u001b[0m\u001b[1;33m:\u001b[0m\u001b[1;33m\u001b[0m\u001b[0m\n\u001b[0;32m    892\u001b[0m         \u001b[0mproto_data\u001b[0m \u001b[1;33m=\u001b[0m \u001b[0mtf_session\u001b[0m\u001b[1;33m.\u001b[0m\u001b[0mTF_GetBuffer\u001b[0m\u001b[1;33m(\u001b[0m\u001b[0mrun_metadata_ptr\u001b[0m\u001b[1;33m)\u001b[0m\u001b[1;33m\u001b[0m\u001b[0m\n",
            "\u001b[1;32m/google/src/cloud/sgouws/colab/google3/blaze-bin/learning/brain/python/client/colab_notebook.par/google3/third_party/tensorflow/python/client/session.py\u001b[0m in \u001b[0;36m_run\u001b[1;34m(self, handle, fetches, feed_dict, options, run_metadata)\u001b[0m\n\u001b[0;32m   1117\u001b[0m     \u001b[1;32mif\u001b[0m \u001b[0mfinal_fetches\u001b[0m \u001b[1;32mor\u001b[0m \u001b[0mfinal_targets\u001b[0m \u001b[1;32mor\u001b[0m \u001b[1;33m(\u001b[0m\u001b[0mhandle\u001b[0m \u001b[1;32mand\u001b[0m \u001b[0mfeed_dict_tensor\u001b[0m\u001b[1;33m)\u001b[0m\u001b[1;33m:\u001b[0m\u001b[1;33m\u001b[0m\u001b[0m\n\u001b[0;32m   1118\u001b[0m       results = self._do_run(handle, final_targets, final_fetches,\n\u001b[1;32m-> 1119\u001b[1;33m                              feed_dict_tensor, options, run_metadata)\n\u001b[0m\u001b[0;32m   1120\u001b[0m     \u001b[1;32melse\u001b[0m\u001b[1;33m:\u001b[0m\u001b[1;33m\u001b[0m\u001b[0m\n\u001b[0;32m   1121\u001b[0m       \u001b[0mresults\u001b[0m \u001b[1;33m=\u001b[0m \u001b[1;33m[\u001b[0m\u001b[1;33m]\u001b[0m\u001b[1;33m\u001b[0m\u001b[0m\n",
            "\u001b[1;32m/google/src/cloud/sgouws/colab/google3/blaze-bin/learning/brain/python/client/colab_notebook.par/google3/third_party/tensorflow/python/client/session.py\u001b[0m in \u001b[0;36m_do_run\u001b[1;34m(self, handle, target_list, fetch_list, feed_dict, options, run_metadata)\u001b[0m\n\u001b[0;32m   1314\u001b[0m     \u001b[1;32mif\u001b[0m \u001b[0mhandle\u001b[0m \u001b[1;32mis\u001b[0m \u001b[0mNone\u001b[0m\u001b[1;33m:\u001b[0m\u001b[1;33m\u001b[0m\u001b[0m\n\u001b[0;32m   1315\u001b[0m       return self._do_call(_run_fn, self._session, feeds, fetches, targets,\n\u001b[1;32m-> 1316\u001b[1;33m                            options, run_metadata)\n\u001b[0m\u001b[0;32m   1317\u001b[0m     \u001b[1;32melse\u001b[0m\u001b[1;33m:\u001b[0m\u001b[1;33m\u001b[0m\u001b[0m\n\u001b[0;32m   1318\u001b[0m       \u001b[1;32mreturn\u001b[0m \u001b[0mself\u001b[0m\u001b[1;33m.\u001b[0m\u001b[0m_do_call\u001b[0m\u001b[1;33m(\u001b[0m\u001b[0m_prun_fn\u001b[0m\u001b[1;33m,\u001b[0m \u001b[0mself\u001b[0m\u001b[1;33m.\u001b[0m\u001b[0m_session\u001b[0m\u001b[1;33m,\u001b[0m \u001b[0mhandle\u001b[0m\u001b[1;33m,\u001b[0m \u001b[0mfeeds\u001b[0m\u001b[1;33m,\u001b[0m \u001b[0mfetches\u001b[0m\u001b[1;33m)\u001b[0m\u001b[1;33m\u001b[0m\u001b[0m\n",
            "\u001b[1;32m/google/src/cloud/sgouws/colab/google3/blaze-bin/learning/brain/python/client/colab_notebook.par/google3/third_party/tensorflow/python/client/session.py\u001b[0m in \u001b[0;36m_do_call\u001b[1;34m(self, fn, *args)\u001b[0m\n\u001b[0;32m   1333\u001b[0m         \u001b[1;32mexcept\u001b[0m \u001b[0mKeyError\u001b[0m\u001b[1;33m:\u001b[0m\u001b[1;33m\u001b[0m\u001b[0m\n\u001b[0;32m   1334\u001b[0m           \u001b[1;32mpass\u001b[0m\u001b[1;33m\u001b[0m\u001b[0m\n\u001b[1;32m-> 1335\u001b[1;33m       \u001b[1;32mraise\u001b[0m \u001b[0mtype\u001b[0m\u001b[1;33m(\u001b[0m\u001b[0me\u001b[0m\u001b[1;33m)\u001b[0m\u001b[1;33m(\u001b[0m\u001b[0mnode_def\u001b[0m\u001b[1;33m,\u001b[0m \u001b[0mop\u001b[0m\u001b[1;33m,\u001b[0m \u001b[0mmessage\u001b[0m\u001b[1;33m)\u001b[0m\u001b[1;33m\u001b[0m\u001b[0m\n\u001b[0m\u001b[0;32m   1336\u001b[0m \u001b[1;33m\u001b[0m\u001b[0m\n\u001b[0;32m   1337\u001b[0m   \u001b[1;32mdef\u001b[0m \u001b[0m_extend_graph\u001b[0m\u001b[1;33m(\u001b[0m\u001b[0mself\u001b[0m\u001b[1;33m)\u001b[0m\u001b[1;33m:\u001b[0m\u001b[1;33m\u001b[0m\u001b[0m\n",
            "\u001b[1;31mFailedPreconditionError\u001b[0m: Attempting to use uninitialized value Variable_4\n\t [[Node: MatMul_4 = MatMul[T=DT_FLOAT, transpose_a=false, transpose_b=false, _device=\"/job:localhost/replica:0/task:0/gpu:0\"](_arg_Placeholder_2_0_0/_1, Variable_4)]]\n\t [[Node: Add_2/_3 = _Recv[client_terminated=false, recv_device=\"/job:localhost/replica:0/task:0/cpu:0\", send_device=\"/job:localhost/replica:0/task:0/gpu:0\", send_device_incarnation=1, tensor_name=\"edge_10_Add_2\", tensor_type=DT_FLOAT, _device=\"/job:localhost/replica:0/task:0/cpu:0\"]()]]\n\nCaused by op u'MatMul_4', defined at:\n  File \"<embedded module '_launcher' in binary '/google/src/cloud/sgouws/colab/google3/blaze-bin/learning/brain/python/client/colab_notebook.par' for 'google3/learning/brain/python/client/colab_notebook.py'>\", line 168, in run_filename_from_loader_as_main\n  File \"<embedded module '_launcher' in binary '/google/src/cloud/sgouws/colab/google3/blaze-bin/learning/brain/python/client/colab_notebook.par' for 'google3/learning/brain/python/client/colab_notebook.py'>\", line 33, in _run_code_in_main\n  File \"/google/src/cloud/sgouws/colab/google3/blaze-bin/learning/brain/python/client/colab_notebook.par/google3/learning/brain/python/client/colab_notebook.py\", line 15, in <module>\n    app.run()\n  File \"/google/src/cloud/sgouws/colab/google3/blaze-bin/learning/brain/python/client/colab_notebook.par/google3/pyglib/app.py\", line 64, in run\n    app.run(main, argv, change_root_and_user)\n  File \"/google/src/cloud/sgouws/colab/google3/blaze-bin/learning/brain/python/client/colab_notebook.par/google3/third_party/py/absl/app.py\", line 428, in run\n    _run_main(main, argv)\n  File \"/google/src/cloud/sgouws/colab/google3/blaze-bin/learning/brain/python/client/colab_notebook.par/google3/third_party/py/absl/app.py\", line 350, in _run_main\n    sys.exit(main(argv))\n  File \"/google/src/cloud/sgouws/colab/google3/blaze-bin/learning/brain/python/client/colab_notebook.par/google3/learning/brain/python/client/colab_notebook.py\", line 10, in main\n    return notebook.main(argv)\n  File \"/google/src/cloud/sgouws/colab/google3/blaze-bin/learning/brain/python/client/colab_notebook.par/google3/research/colab/notebook/notebook.py\", line 579, in main\n    kernel_app.RunKernelApp(kernel_autoload_modules)\n  File \"/google/src/cloud/sgouws/colab/google3/blaze-bin/learning/brain/python/client/colab_notebook.par/google3/research/colab/notebook/kernel_app.py\", line 79, in RunKernelApp\n    kernelapp_instance.start()\n  File \"/google/src/cloud/sgouws/colab/google3/blaze-bin/learning/brain/python/client/colab_notebook.par/google3/third_party/py/IPython/kernel/zmq/kernelapp.py\", line 459, in start\n    ioloop.IOLoop.instance().start()\n  File \"/google/src/cloud/sgouws/colab/google3/blaze-bin/learning/brain/python/client/colab_notebook.par/google3/third_party/py/zmq/eventloop/ioloop.py\", line 151, in start\n    super(ZMQIOLoop, self).start()\n  File \"/google/src/cloud/sgouws/colab/google3/blaze-bin/learning/brain/python/client/colab_notebook.par/google3/third_party/py/tornado/ioloop.py\", line 672, in start\n    self._handlers[fd](fd, events)\n  File \"/google/src/cloud/sgouws/colab/google3/blaze-bin/learning/brain/python/client/colab_notebook.par/google3/third_party/py/tornado/stack_context.py\", line 302, in wrapped\n    ret = fn(*args, **kwargs)\n  File \"/google/src/cloud/sgouws/colab/google3/blaze-bin/learning/brain/python/client/colab_notebook.par/google3/third_party/py/zmq/eventloop/zmqstream.py\", line 433, in _handle_events\n    self._handle_recv()\n  File \"/google/src/cloud/sgouws/colab/google3/blaze-bin/learning/brain/python/client/colab_notebook.par/google3/third_party/py/zmq/eventloop/zmqstream.py\", line 465, in _handle_recv\n    self._run_callback(callback, msg)\n  File \"/google/src/cloud/sgouws/colab/google3/blaze-bin/learning/brain/python/client/colab_notebook.par/google3/third_party/py/zmq/eventloop/zmqstream.py\", line 407, in _run_callback\n    callback(*args, **kwargs)\n  File \"/google/src/cloud/sgouws/colab/google3/blaze-bin/learning/brain/python/client/colab_notebook.par/google3/third_party/py/tornado/stack_context.py\", line 302, in wrapped\n    ret = fn(*args, **kwargs)\n  File \"/google/src/cloud/sgouws/colab/google3/blaze-bin/learning/brain/python/client/colab_notebook.par/google3/third_party/py/IPython/kernel/zmq/ipkernel.py\", line 281, in dispatcher\n    return self.dispatch_shell(stream, msg)\n  File \"/google/src/cloud/sgouws/colab/google3/blaze-bin/learning/brain/python/client/colab_notebook.par/google3/third_party/py/IPython/kernel/zmq/ipkernel.py\", line 245, in dispatch_shell\n    handler(stream, idents, msg)\n  File \"/google/src/cloud/sgouws/colab/google3/blaze-bin/learning/brain/python/client/colab_notebook.par/google3/third_party/py/IPython/kernel/zmq/ipkernel.py\", line 389, in execute_request\n    shell.run_cell(code, store_history=store_history, silent=silent)\n  File \"/google/src/cloud/sgouws/colab/google3/blaze-bin/learning/brain/python/client/colab_notebook.par/google3/third_party/py/IPython/core/interactiveshell.py\", line 2747, in run_cell\n    interactivity=interactivity, compiler=compiler)\n  File \"/google/src/cloud/sgouws/colab/google3/blaze-bin/learning/brain/python/client/colab_notebook.par/google3/third_party/py/IPython/core/interactiveshell.py\", line 2833, in run_ast_nodes\n    if self.run_code(code):\n  File \"/google/src/cloud/sgouws/colab/google3/blaze-bin/learning/brain/python/client/colab_notebook.par/google3/third_party/py/IPython/core/interactiveshell.py\", line 2889, in run_code\n    exec(code_obj, self.user_global_ns, self.user_ns)\n  File \"<ipython-input-21-a080959ce44a>\", line 16, in <module>\n    logits = get_logits_linear_tf(x_tf, W, b)\n  File \"<ipython-input-21-a080959ce44a>\", line 6, in get_logits_linear_tf\n    return tf.add(tf.matmul(X, W), b)\n  File \"/google/src/cloud/sgouws/colab/google3/blaze-bin/learning/brain/python/client/colab_notebook.par/google3/third_party/tensorflow/python/ops/math_ops.py\", line 1854, in matmul\n    a, b, transpose_a=transpose_a, transpose_b=transpose_b, name=name)\n  File \"/google/src/cloud/sgouws/colab/google3/blaze-bin/learning/brain/python/client/colab_notebook.par/google3/third_party/tensorflow/python/ops/gen_math_ops.py\", line 1351, in _mat_mul\n    transpose_b=transpose_b, name=name)\n  File \"/google/src/cloud/sgouws/colab/google3/blaze-bin/learning/brain/python/client/colab_notebook.par/google3/third_party/tensorflow/python/framework/op_def_library.py\", line 768, in apply_op\n    op_def=op_def)\n  File \"/google/src/cloud/sgouws/colab/google3/blaze-bin/learning/brain/python/client/colab_notebook.par/google3/third_party/tensorflow/python/framework/ops.py\", line 2620, in create_op\n    original_op=self._default_original_op, op_def=op_def)\n  File \"/google/src/cloud/sgouws/colab/google3/blaze-bin/learning/brain/python/client/colab_notebook.par/google3/third_party/tensorflow/python/framework/ops.py\", line 1206, in __init__\n    self._traceback = self._graph._extract_stack()  # pylint: disable=protected-access\n\nFailedPreconditionError (see above for traceback): Attempting to use uninitialized value Variable_4\n\t [[Node: MatMul_4 = MatMul[T=DT_FLOAT, transpose_a=false, transpose_b=false, _device=\"/job:localhost/replica:0/task:0/gpu:0\"](_arg_Placeholder_2_0_0/_1, Variable_4)]]\n\t [[Node: Add_2/_3 = _Recv[client_terminated=false, recv_device=\"/job:localhost/replica:0/task:0/cpu:0\", send_device=\"/job:localhost/replica:0/task:0/gpu:0\", send_device_incarnation=1, tensor_name=\"edge_10_Add_2\", tensor_type=DT_FLOAT, _device=\"/job:localhost/replica:0/task:0/cpu:0\"]()]]\n"
          ]
        }
      ]
    },
    {
      "metadata": {
        "id": "GRGbrnuyrNzh",
        "colab_type": "text"
      },
      "source": [
        "## Using a nonlinear classifier\n",
        "\n",
        "Lets replicate the Non linear model in TensorFlow. TensorFlow saves us from writing even more code as the model becomes more complex. In particular, this is because we don't have to implement the derivatives ourselves!"
      ],
      "cell_type": "markdown"
    },
    {
      "metadata": {
        "id": "LrNH71Jv31RB",
        "colab_type": "code",
        "colab": {
          "autoexec": {
            "startup": false,
            "wait_interval": 0
          }
        }
      },
      "source": [
        "class TFNonLinearModel(object):\n",
        "  def __init__(self):\n",
        "    # Initialise the variables\n",
        "    # Tensorflow variables can be updated automatically by optimisers.\n",
        "    self.W = tf.Variable(non_linear_W_init, dtype=tf.float32)\n",
        "    self.b = tf.Variable(tf.zeros([num_hidden]), dtype=tf.float32)\n",
        "    self.W2 = tf.Variable(non_linear_W2_init, dtype=tf.float32)\n",
        "    self.b2 = tf.Variable(tf.zeros([num_classes]), dtype=tf.float32)\n",
        "\n",
        "  def predictions(self, X):\n",
        "    \"\"\"Make predictions of classes (y values) given some inputs (X).\"\"\"\n",
        "    logits = self.get_logits(X)\n",
        "\n",
        "    # Compute the class probabilities.\n",
        "    probs = tf.nn.softmax(logits)\n",
        "    \n",
        "    return probs\n",
        "  \n",
        "  def loss(self, probs, y):\n",
        "    \"\"\"Calculate the loss given model predictions and true targets.\"\"\"\n",
        "    data_loss = cross_entropy_tf(probs, y)\n",
        "    regulariser = reg_lambda * tf.nn.l2_loss(self.W) + reg_lambda * tf.nn.l2_loss(self.W2)\n",
        "    return data_loss + regulariser\n",
        "    \n",
        "  def get_logits(self, X):\n",
        "    hidden_output = self.hidden_layer(X)\n",
        "    logits = tf.add(tf.matmul(hidden_output, self.W2), self.b2)\n",
        "    return logits\n",
        "  \n",
        "  def hidden_layer(self, X):\n",
        "    linear = tf.add(tf.matmul(X, self.W), self.b)\n",
        "    return tf.nn.relu(linear)"
      ],
      "cell_type": "code",
      "execution_count": 0,
      "outputs": []
    },
    {
      "metadata": {
        "id": "RI0a_no65COO",
        "colab_type": "code",
        "colab": {
          "autoexec": {
            "startup": false,
            "wait_interval": 0
          },
          "output_extras": [
            {
              "item_id": 11
            }
          ],
          "height": 204
        },
        "outputId": "26f0e169-a60a-4cd8-ae7f-f6709b144348",
        "executionInfo": {
          "status": "ok",
          "timestamp": 1502217555438,
          "user_tz": -60,
          "elapsed": 9526,
          "user": {
            "displayName": "Avishkar Bhoopchand",
            "photoUrl": "//lh5.googleusercontent.com/-OainnMWSi6A/AAAAAAAAAAI/AAAAAAAAAOQ/eI7Z19q5v7E/s50-c-k-no/photo.jpg",
            "userId": "105781587643595215149"
          }
        }
      },
      "source": [
        "# Create an instance of the TensorFlow Non Linear model\n",
        "tf_non_linear_model = TFNonLinearModel()\n",
        "\n",
        "# Train it for 10000 epochs\n",
        "train_tf_model(tf_non_linear_model, 10000, 1000)"
      ],
      "cell_type": "code",
      "execution_count": 53,
      "outputs": [
        {
          "output_type": "stream",
          "text": [
            "Iteration: 0001 cost= 3.389464140\n",
            "Iteration: 1001 cost= 0.244196594\n",
            "Iteration: 2001 cost= 0.244092196\n",
            "Iteration: 3001 cost= 0.244063124\n",
            "Iteration: 4001 cost= 0.244036168\n",
            "Iteration: 5001 cost= 0.244037494\n",
            "Iteration: 6001 cost= 0.244020045\n",
            "Iteration: 7001 cost= 0.244022638\n",
            "Iteration: 8001 cost= 0.244015068\n",
            "Iteration: 9001 cost= 0.244016916\n",
            "Optimization Finished!\n"
          ],
          "name": "stdout"
        }
      ]
    },
    {
      "metadata": {
        "id": "7CKPywnwrUWo",
        "colab_type": "text"
      },
      "source": [
        "## Visualizing the Nonlinear Model's Decision Boundary"
      ],
      "cell_type": "markdown"
    },
    {
      "metadata": {
        "id": "Pgvwt2hDrY2j",
        "colab_type": "text"
      },
      "source": [
        "**TODO**"
      ],
      "cell_type": "markdown"
    },
    {
      "metadata": {
        "id": "Fm2EVHN0G37b",
        "colab_type": "text"
      },
      "source": [
        ""
      ],
      "cell_type": "markdown"
    },
    {
      "metadata": {
        "id": "qiseJLFuzyuM",
        "colab_type": "text"
      },
      "source": [
        "# Resources\n",
        "\n",
        "* http://cs.stanford.edu/people/karpathy/cs231nfiles/minimal_net.html \n",
        "* https://aqibsaeed.github.io/2016-07-07-TensorflowLR/\n",
        "\n"
      ],
      "cell_type": "markdown"
    },
    {
      "metadata": {
        "id": "qTxusjZ6Y3Ed",
        "colab_type": "code",
        "colab": {
          "autoexec": {
            "startup": false,
            "wait_interval": 0
          }
        }
      },
      "source": [
        ""
      ],
      "cell_type": "code",
      "execution_count": 0,
      "outputs": []
    }
  ]
}